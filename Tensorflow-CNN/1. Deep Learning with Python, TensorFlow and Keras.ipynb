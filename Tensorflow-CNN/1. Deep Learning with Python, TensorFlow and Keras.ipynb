{
 "cells": [
  {
   "cell_type": "code",
   "execution_count": 1,
   "id": "0c4ae2d9",
   "metadata": {},
   "outputs": [
    {
     "name": "stderr",
     "output_type": "stream",
     "text": [
      "C:\\Users\\user\\Anaconda3\\lib\\site-packages\\tensorflow\\python\\framework\\dtypes.py:516: FutureWarning: Passing (type, 1) or '1type' as a synonym of type is deprecated; in a future version of numpy, it will be understood as (type, (1,)) / '(1,)type'.\n",
      "  _np_qint8 = np.dtype([(\"qint8\", np.int8, 1)])\n",
      "C:\\Users\\user\\Anaconda3\\lib\\site-packages\\tensorflow\\python\\framework\\dtypes.py:517: FutureWarning: Passing (type, 1) or '1type' as a synonym of type is deprecated; in a future version of numpy, it will be understood as (type, (1,)) / '(1,)type'.\n",
      "  _np_quint8 = np.dtype([(\"quint8\", np.uint8, 1)])\n",
      "C:\\Users\\user\\Anaconda3\\lib\\site-packages\\tensorflow\\python\\framework\\dtypes.py:518: FutureWarning: Passing (type, 1) or '1type' as a synonym of type is deprecated; in a future version of numpy, it will be understood as (type, (1,)) / '(1,)type'.\n",
      "  _np_qint16 = np.dtype([(\"qint16\", np.int16, 1)])\n",
      "C:\\Users\\user\\Anaconda3\\lib\\site-packages\\tensorflow\\python\\framework\\dtypes.py:519: FutureWarning: Passing (type, 1) or '1type' as a synonym of type is deprecated; in a future version of numpy, it will be understood as (type, (1,)) / '(1,)type'.\n",
      "  _np_quint16 = np.dtype([(\"quint16\", np.uint16, 1)])\n",
      "C:\\Users\\user\\Anaconda3\\lib\\site-packages\\tensorflow\\python\\framework\\dtypes.py:520: FutureWarning: Passing (type, 1) or '1type' as a synonym of type is deprecated; in a future version of numpy, it will be understood as (type, (1,)) / '(1,)type'.\n",
      "  _np_qint32 = np.dtype([(\"qint32\", np.int32, 1)])\n",
      "C:\\Users\\user\\Anaconda3\\lib\\site-packages\\tensorflow\\python\\framework\\dtypes.py:525: FutureWarning: Passing (type, 1) or '1type' as a synonym of type is deprecated; in a future version of numpy, it will be understood as (type, (1,)) / '(1,)type'.\n",
      "  np_resource = np.dtype([(\"resource\", np.ubyte, 1)])\n",
      "C:\\Users\\user\\Anaconda3\\lib\\site-packages\\tensorboard\\compat\\tensorflow_stub\\dtypes.py:541: FutureWarning: Passing (type, 1) or '1type' as a synonym of type is deprecated; in a future version of numpy, it will be understood as (type, (1,)) / '(1,)type'.\n",
      "  _np_qint8 = np.dtype([(\"qint8\", np.int8, 1)])\n",
      "C:\\Users\\user\\Anaconda3\\lib\\site-packages\\tensorboard\\compat\\tensorflow_stub\\dtypes.py:542: FutureWarning: Passing (type, 1) or '1type' as a synonym of type is deprecated; in a future version of numpy, it will be understood as (type, (1,)) / '(1,)type'.\n",
      "  _np_quint8 = np.dtype([(\"quint8\", np.uint8, 1)])\n",
      "C:\\Users\\user\\Anaconda3\\lib\\site-packages\\tensorboard\\compat\\tensorflow_stub\\dtypes.py:543: FutureWarning: Passing (type, 1) or '1type' as a synonym of type is deprecated; in a future version of numpy, it will be understood as (type, (1,)) / '(1,)type'.\n",
      "  _np_qint16 = np.dtype([(\"qint16\", np.int16, 1)])\n",
      "C:\\Users\\user\\Anaconda3\\lib\\site-packages\\tensorboard\\compat\\tensorflow_stub\\dtypes.py:544: FutureWarning: Passing (type, 1) or '1type' as a synonym of type is deprecated; in a future version of numpy, it will be understood as (type, (1,)) / '(1,)type'.\n",
      "  _np_quint16 = np.dtype([(\"quint16\", np.uint16, 1)])\n",
      "C:\\Users\\user\\Anaconda3\\lib\\site-packages\\tensorboard\\compat\\tensorflow_stub\\dtypes.py:545: FutureWarning: Passing (type, 1) or '1type' as a synonym of type is deprecated; in a future version of numpy, it will be understood as (type, (1,)) / '(1,)type'.\n",
      "  _np_qint32 = np.dtype([(\"qint32\", np.int32, 1)])\n",
      "C:\\Users\\user\\Anaconda3\\lib\\site-packages\\tensorboard\\compat\\tensorflow_stub\\dtypes.py:550: FutureWarning: Passing (type, 1) or '1type' as a synonym of type is deprecated; in a future version of numpy, it will be understood as (type, (1,)) / '(1,)type'.\n",
      "  np_resource = np.dtype([(\"resource\", np.ubyte, 1)])\n"
     ]
    },
    {
     "name": "stdout",
     "output_type": "stream",
     "text": [
      "WARNING:tensorflow:From C:\\Users\\user\\Anaconda3\\lib\\site-packages\\tensorflow\\python\\ops\\init_ops.py:1251: calling VarianceScaling.__init__ (from tensorflow.python.ops.init_ops) with dtype is deprecated and will be removed in a future version.\n",
      "Instructions for updating:\n",
      "Call initializer instance with the dtype argument instead of passing it to the constructor\n",
      "Epoch 1/3\n",
      "60000/60000 [==============================] - 5s 91us/sample - loss: 0.2604 - acc: 0.9247\n",
      "Epoch 2/3\n",
      "60000/60000 [==============================] - 5s 90us/sample - loss: 0.1051 - acc: 0.9676\n",
      "Epoch 3/3\n",
      "60000/60000 [==============================] - 6s 93us/sample - loss: 0.0741 - acc: 0.9772\n"
     ]
    },
    {
     "data": {
      "text/plain": [
       "<tensorflow.python.keras.callbacks.History at 0x539a68d748>"
      ]
     },
     "execution_count": 1,
     "metadata": {},
     "output_type": "execute_result"
    }
   ],
   "source": [
    "import tensorflow as tf\n",
    "\n",
    "#tf.__version__ # Gives the version of the tensorflow library\n",
    "#print(tf.version.VERSION)\n",
    "\n",
    "mnist = tf.keras.datasets.mnist # 28x28 images of hand-written digits 0-9\n",
    "\n",
    "# The idea is to feed through the pixel values to the neural network and have the neural network output the number in the image\n",
    "\n",
    "(x_train, y_train), (x_test, y_test) = mnist.load_data()\n",
    "# Above line unpacks the dataset to training and testing variables\n",
    "\n",
    "x_train = tf.keras.utils.normalize(x_train, axis=1) # Scaling the data to values between 0 and 1\n",
    "x_test = tf.keras.utils.normalize(x_test, axis=1)\n",
    "# Above process is not necessary but makes a significant difference\n",
    "\n",
    "model = tf.keras.models.Sequential() # Sequential model\n",
    "model.add(tf.keras.layers.Flatten()) # Images are multidimensional arrays before so we have to flatten it using the built-in\n",
    "# layer in keras \n",
    "\n",
    "# Build a model usind 2 hidden layers \n",
    "\n",
    "model.add(tf.keras.layers.Dense(128, activation=tf.nn.relu)) # Using the dense layer with 128 units/neurons \n",
    "# Activation function is the stepper/sigmoid function that makes the neuron 'fire'\n",
    "# tf.nn.relu(rectified linear) is the default activation function\n",
    "\n",
    "model.add(tf.keras.layers.Dense(128, activation=tf.nn.relu)) # Another layer\n",
    "\n",
    "model.add(tf.keras.layers.Dense(10, activation=tf.nn.softmax)) \n",
    "# The 10 units signify the no of classifications of the model i.e. 10 in this case  \n",
    "# Activation function is not relu because the result is a probability distribution for which softmax is used\n",
    "\n",
    "# Defining parameters for the training of the model\n",
    "model.compile(optimizer='adam', # optimiser to be used 'adam' is commonly used\n",
    "             loss='sparse_categorical_crossentropy',# degree of error since neural networks always try to min loss instead of max accuracy\n",
    "             metrics=['accuracy']) # metrics we want to track\n",
    "\n",
    "model.fit(x_train, y_train, epochs=3) # epochs is the number of times the network passes over the dataset"
   ]
  },
  {
   "cell_type": "code",
   "execution_count": 2,
   "id": "55ebdb3a",
   "metadata": {},
   "outputs": [
    {
     "name": "stdout",
     "output_type": "stream",
     "text": [
      "10000/10000 [==============================] - 1s 65us/sample - loss: 0.0987 - acc: 0.9695\n",
      "0.09871041036942042 0.9695\n"
     ]
    }
   ],
   "source": [
    "# Calculate the validation loss and validation accuracy\n",
    "# To check if the model has been overfit\n",
    "\n",
    "val_loss, val_acc = model.evaluate(x_test, y_test)\n",
    "print(val_loss, val_acc)\n"
   ]
  },
  {
   "cell_type": "code",
   "execution_count": 3,
   "id": "b869472c",
   "metadata": {},
   "outputs": [
    {
     "data": {
      "text/plain": [
       "<matplotlib.image.AxesImage at 0x539d8eb7c8>"
      ]
     },
     "execution_count": 3,
     "metadata": {},
     "output_type": "execute_result"
    },
    {
     "data": {
      "image/png": "[encoded data removed]",
      "text/plain": [
       "<Figure size 432x288 with 1 Axes>"
      ]
     },
     "metadata": {
      "needs_background": "light"
     },
     "output_type": "display_data"
    }
   ],
   "source": [
    "import matplotlib.pyplot as plt\n",
    "\n",
    "plt.imshow(x_train[0], cmap=plt.cm.binary) # plt.imshow() displays the given data as an image plt.cm.binary will show it in b/w\n",
    "# print(x_train[0]) # A multi-dimensional array is printed"
   ]
  },
  {
   "cell_type": "code",
   "execution_count": 4,
   "id": "e24a7aa8",
   "metadata": {},
   "outputs": [
    {
     "data": {
      "text/plain": [
       "<module 'tensorflow.python.keras.api._v1.keras.datasets.mnist' from 'C:\\\\Users\\\\user\\\\Anaconda3\\\\lib\\\\site-packages\\\\tensorflow\\\\python\\\\keras\\\\api\\\\_v1\\\\keras\\\\datasets\\\\mnist\\\\__init__.py'>"
      ]
     },
     "execution_count": 4,
     "metadata": {},
     "output_type": "execute_result"
    }
   ],
   "source": [
    "tf.keras.datasets.mnist"
   ]
  },
  {
   "cell_type": "code",
   "execution_count": 5,
   "id": "58a07cef",
   "metadata": {},
   "outputs": [],
   "source": [
    "# Save a model\n",
    "model.save('epic_num_reader.model')"
   ]
  },
  {
   "cell_type": "code",
   "execution_count": 6,
   "id": "120ff42f",
   "metadata": {},
   "outputs": [
    {
     "name": "stdout",
     "output_type": "stream",
     "text": [
      "WARNING:tensorflow:From C:\\Users\\user\\Anaconda3\\lib\\site-packages\\tensorflow\\python\\ops\\init_ops.py:97: calling GlorotUniform.__init__ (from tensorflow.python.ops.init_ops) with dtype is deprecated and will be removed in a future version.\n",
      "Instructions for updating:\n",
      "Call initializer instance with the dtype argument instead of passing it to the constructor\n",
      "WARNING:tensorflow:From C:\\Users\\user\\Anaconda3\\lib\\site-packages\\tensorflow\\python\\ops\\init_ops.py:97: calling Zeros.__init__ (from tensorflow.python.ops.init_ops) with dtype is deprecated and will be removed in a future version.\n",
      "Instructions for updating:\n",
      "Call initializer instance with the dtype argument instead of passing it to the constructor\n",
      "WARNING:tensorflow:Sequential models without an `input_shape` passed to the first layer cannot reload their optimizer state. As a result, your model isstarting with a freshly initialized optimizer.\n"
     ]
    }
   ],
   "source": [
    "# Load a model\n",
    "new_model = tf.keras.models.load_model(\"epic_num_reader.model\")"
   ]
  },
  {
   "cell_type": "code",
   "execution_count": 10,
   "id": "a16cd9a6",
   "metadata": {},
   "outputs": [],
   "source": [
    "import numpy as np \n",
    "\n",
    "predictions = new_model.predict(np.array(x_test))"
   ]
  },
  {
   "cell_type": "code",
   "execution_count": 7,
   "id": "47f0558b",
   "metadata": {},
   "outputs": [],
   "source": [
    "predictions_new = new_model.predict(x_test) # Generates output predictions for the input samples."
   ]
  },
  {
   "cell_type": "code",
   "execution_count": 8,
   "id": "e567f0be",
   "metadata": {},
   "outputs": [
    {
     "name": "stdout",
     "output_type": "stream",
     "text": [
      "7\n"
     ]
    },
    {
     "data": {
      "image/png": "[encoded data removed]",
      "text/plain": [
       "<Figure size 432x288 with 1 Axes>"
      ]
     },
     "metadata": {
      "needs_background": "light"
     },
     "output_type": "display_data"
    }
   ],
   "source": [
    "import numpy as np\n",
    "\n",
    "print(np.argmax(predictions_new[0]))\n",
    "plt.show(plt.imshow(x_test[0]))"
   ]
  },
  {
   "cell_type": "code",
   "execution_count": 9,
   "id": "c2ba5929",
   "metadata": {
    "scrolled": true
   },
   "outputs": [
    {
     "name": "stdout",
     "output_type": "stream",
     "text": [
      "Help on method predict in module tensorflow.python.keras.engine.training:\n",
      "\n",
      "predict(x, batch_size=None, verbose=0, steps=None, callbacks=None, max_queue_size=10, workers=1, use_multiprocessing=False) method of tensorflow.python.keras.engine.sequential.Sequential instance\n",
      "    Generates output predictions for the input samples.\n",
      "    \n",
      "    Computation is done in batches.\n",
      "    \n",
      "    Arguments:\n",
      "        x: Input samples. It could be:\n",
      "          - A Numpy array (or array-like), or a list of arrays\n",
      "            (in case the model has multiple inputs).\n",
      "          - A TensorFlow tensor, or a list of tensors\n",
      "            (in case the model has multiple inputs).\n",
      "          - A `tf.data` dataset or a dataset iterator.\n",
      "          - A generator or `keras.utils.Sequence` instance.\n",
      "        batch_size: Integer or `None`.\n",
      "            Number of samples per gradient update.\n",
      "            If unspecified, `batch_size` will default to 32.\n",
      "            Do not specify the `batch_size` is your data is in the\n",
      "            form of symbolic tensors, dataset, dataset iterators,\n",
      "            generators, or `keras.utils.Sequence` instances (since they generate\n",
      "            batches).\n",
      "        verbose: Verbosity mode, 0 or 1.\n",
      "        steps: Total number of steps (batches of samples)\n",
      "            before declaring the prediction round finished.\n",
      "            Ignored with the default value of `None`. If x is a `tf.data`\n",
      "            dataset or a dataset iterator, and `steps` is None, `predict` will\n",
      "            run until the input dataset is exhausted.\n",
      "        callbacks: List of `keras.callbacks.Callback` instances.\n",
      "            List of callbacks to apply during prediction.\n",
      "            See [callbacks](/api_docs/python/tf/keras/callbacks).\n",
      "        max_queue_size: Integer. Used for generator or `keras.utils.Sequence`\n",
      "            input only. Maximum size for the generator queue.\n",
      "            If unspecified, `max_queue_size` will default to 10.\n",
      "        workers: Integer. Used for generator or `keras.utils.Sequence` input\n",
      "            only. Maximum number of processes to spin up when using\n",
      "            process-based threading. If unspecified, `workers` will default\n",
      "            to 1. If 0, will execute the generator on the main thread.\n",
      "        use_multiprocessing: Boolean. Used for generator or\n",
      "            `keras.utils.Sequence` input only. If `True`, use process-based\n",
      "            threading. If unspecified, `use_multiprocessing` will default to\n",
      "            `False`. Note that because this implementation relies on\n",
      "            multiprocessing, you should not pass non-picklable arguments to\n",
      "            the generator as they can't be passed easily to children processes.\n",
      "    \n",
      "    \n",
      "    Returns:\n",
      "        Numpy array(s) of predictions.\n",
      "    \n",
      "    Raises:\n",
      "        ValueError: In case of mismatch between the provided\n",
      "            input data and the model's expectations,\n",
      "            or in case a stateful model receives a number of samples\n",
      "            that is not a multiple of the batch size.\n",
      "\n"
     ]
    }
   ],
   "source": [
    "help(new_model.predict)"
   ]
  },
  {
   "cell_type": "code",
   "execution_count": 11,
   "id": "e1603f89",
   "metadata": {},
   "outputs": [
    {
     "name": "stdout",
     "output_type": "stream",
     "text": [
      "[[2.14762452e-09 7.22596525e-08 2.22132735e-06 ... 9.99983668e-01\n",
      "  6.98000093e-08 1.29353978e-07]\n",
      " [2.74896109e-07 2.97359079e-02 9.69857395e-01 ... 1.18416015e-08\n",
      "  5.75103841e-05 1.93287344e-10]\n",
      " [3.07462159e-07 9.99406219e-01 4.63393662e-05 ... 2.10358048e-04\n",
      "  3.03984038e-04 3.43104011e-06]\n",
      " ...\n",
      " [1.77671691e-08 8.57002576e-08 1.45199408e-07 ... 1.64166049e-05\n",
      "  5.92896822e-06 1.01595040e-04]\n",
      " [8.48571563e-06 1.58490423e-06 8.72186718e-07 ... 8.73284589e-05\n",
      "  1.18268875e-03 2.35018138e-08]\n",
      " [4.91077742e-07 7.36244621e-10 2.15107239e-08 ... 3.52833700e-11\n",
      "  1.47617826e-07 1.02296038e-09]]\n"
     ]
    }
   ],
   "source": [
    "predictions = model.predict(x_test) # Predicting with the model\n",
    "print(predictions) # Will print probability distributions"
   ]
  },
  {
   "cell_type": "code",
   "execution_count": 12,
   "id": "591206a5",
   "metadata": {},
   "outputs": [
    {
     "data": {
      "text/plain": [
       "array([2.14762452e-09, 7.22596525e-08, 2.22132735e-06, 1.37586085e-05,\n",
       "       2.47610377e-10, 9.06514952e-09, 7.52548116e-14, 9.99983668e-01,\n",
       "       6.98000093e-08, 1.29353978e-07], dtype=float32)"
      ]
     },
     "execution_count": 12,
     "metadata": {},
     "output_type": "execute_result"
    }
   ],
   "source": [
    "predictions[0] # Gives an array of probabilities of each number being the number in the image index-wise. It is max at index 7."
   ]
  },
  {
   "cell_type": "code",
   "execution_count": 13,
   "id": "b436d6b9",
   "metadata": {},
   "outputs": [
    {
     "name": "stdout",
     "output_type": "stream",
     "text": [
      "7\n"
     ]
    }
   ],
   "source": [
    "import numpy as np\n",
    "\n",
    "print(np.argmax(predictions[0])) # Finding the prediction for x_test[0]\n",
    "# np.argmax() method returns the index of the max value in an array"
   ]
  },
  {
   "cell_type": "code",
   "execution_count": 14,
   "id": "13eb7bc7",
   "metadata": {},
   "outputs": [
    {
     "data": {
      "text/plain": [
       "<matplotlib.image.AxesImage at 0x539dfe0148>"
      ]
     },
     "execution_count": 14,
     "metadata": {},
     "output_type": "execute_result"
    },
    {
     "data": {
      "image/png": "[encoded data removed]",
      "text/plain": [
       "<Figure size 432x288 with 1 Axes>"
      ]
     },
     "metadata": {
      "needs_background": "light"
     },
     "output_type": "display_data"
    }
   ],
   "source": [
    "plt.imshow(x_test[0]) # Showing the x_test[0] image"
   ]
  },
  {
   "cell_type": "code",
   "execution_count": 16,
   "id": "e5d0cffd",
   "metadata": {},
   "outputs": [
    {
     "data": {
      "text/plain": [
       "'1.14.0'"
      ]
     },
     "execution_count": 16,
     "metadata": {},
     "output_type": "execute_result"
    }
   ],
   "source": [
    "tf.version.VERSION"
   ]
  },
  {
   "cell_type": "code",
   "execution_count": 17,
   "id": "3e32fcaa",
   "metadata": {},
   "outputs": [
    {
     "data": {
      "text/plain": [
       "10000"
      ]
     },
     "execution_count": 17,
     "metadata": {},
     "output_type": "execute_result"
    }
   ],
   "source": [
    "len(predictions)"
   ]
  },
  {
   "cell_type": "code",
   "execution_count": 18,
   "id": "e488de5c",
   "metadata": {},
   "outputs": [
    {
     "data": {
      "image/png": "[encoded data removed]",
      "text/plain": [
       "<Figure size 360x360 with 9 Axes>"
      ]
     },
     "metadata": {},
     "output_type": "display_data"
    }
   ],
   "source": [
    "import numpy as np\n",
    "\n",
    "titles = []\n",
    "\n",
    "plt.subplots(3, 3, figsize=(5,5))\n",
    "\n",
    "for i in range(9):\n",
    "    titles.append(np.argmax(predictions[i]))\n",
    "    plt.subplot(3, 3, i+1)\n",
    "    plt.imshow(x_test[i], 'gray')\n",
    "    plt.title(titles[i])\n",
    "    plt.xticks([]), plt.yticks([])\n",
    "\n",
    "# for i in range(10, 18):\n",
    "#     print(np.argmax(predictions_new[i]))\n",
    "#     plt.imshow(x_test[i])"
   ]
  },
  {
   "cell_type": "code",
   "execution_count": 19,
   "id": "a6975bc3",
   "metadata": {},
   "outputs": [
    {
     "data": {
      "image/png": "[encoded data removed]",
      "text/plain": [
       "<Figure size 432x288 with 9 Axes>"
      ]
     },
     "metadata": {},
     "output_type": "display_data"
    }
   ],
   "source": [
    "import numpy as np\n",
    "\n",
    "titles = []\n",
    "\n",
    "for i in range(9):\n",
    "    titles.append(np.argmax(predictions_new[i]))\n",
    "    plt.subplot(3, 3, i+1)\n",
    "    plt.imshow(x_test[i], 'gray')\n",
    "    plt.title(titles[i])\n",
    "    plt.xticks([]), plt.yticks([])"
   ]
  },
  {
   "cell_type": "code",
   "execution_count": 21,
   "id": "9fd850e7",
   "metadata": {},
   "outputs": [],
   "source": [
    "# import numpy as np\n",
    "\n",
    "# titles = []\n",
    "\n",
    "# for i in range(9):\n",
    "#     titles.append(np.argmax(predictions[i]))\n",
    "    \n",
    "# print(titles)\n",
    "\n",
    "# fig, axs = plt.subplots(3, 3)\n",
    "\n",
    "# i=0\n",
    "# for ax, interp in zip(axs, titles):\n",
    "#     ax.imshow(x_test[i])\n",
    "#     ax.set_title(titles)\n",
    "#     i+=1\n",
    "# # for i in range(9):\n",
    "# #     titles.append(np.argmax(predictions[i]))\n",
    "# #     axs[i].imshow(x_test[i])\n",
    "# #     axs[i].set_title(titles[i])"
   ]
  },
  {
   "cell_type": "code",
   "execution_count": 31,
   "id": "5fcdef51",
   "metadata": {},
   "outputs": [],
   "source": [
    "# Trying to predict a random handwritten image using the trained model\n",
    "\n",
    "# import cv2\n",
    "\n",
    "# sample_img = cv2.imread(\"2.jpg\", cv2.IMREAD_GRAYSCALE)\n",
    "# sample_img = cv2.resize(sample_img, (28, 28))"
   ]
  },
  {
   "cell_type": "code",
   "execution_count": 32,
   "id": "dbdb7f19",
   "metadata": {},
   "outputs": [],
   "source": [
    "# plt.imshow(sample_img)"
   ]
  },
  {
   "cell_type": "code",
   "execution_count": 29,
   "id": "12f82a59",
   "metadata": {},
   "outputs": [
    {
     "name": "stdout",
     "output_type": "stream",
     "text": [
      "Object `sample_prediction = model.predict(sample_img)` not found.\n"
     ]
    }
   ],
   "source": [
    "# sample_prediction = model.predict(sample_img)"
   ]
  },
  {
   "cell_type": "code",
   "execution_count": 33,
   "id": "a8007f57",
   "metadata": {},
   "outputs": [],
   "source": [
    "# print(sample_predictions)"
   ]
  },
  {
   "cell_type": "code",
   "execution_count": 15,
   "id": "26ef70a4",
   "metadata": {},
   "outputs": [],
   "source": [
    "# Tutorial article link: https://pythonprogramming.net/introduction-deep-learning-python-tensorflow-keras/\n",
    "# Video Link: https://youtu.be/wQ8BIBpya2k"
   ]
  }
 ],
 "metadata": {
  "kernelspec": {
   "display_name": "Python 3",
   "language": "python",
   "name": "python3"
  },
  "language_info": {
   "codemirror_mode": {
    "name": "ipython",
    "version": 3
   },
   "file_extension": ".py",
   "mimetype": "text/x-python",
   "name": "python",
   "nbconvert_exporter": "python",
   "pygments_lexer": "ipython3",
   "version": "3.7.10"
  }
 },
 "nbformat": 4,
 "nbformat_minor": 5
}
